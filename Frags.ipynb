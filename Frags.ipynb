{
 "cells": [
  {
   "cell_type": "code",
   "execution_count": 1,
   "metadata": {},
   "outputs": [
    {
     "name": "stderr",
     "output_type": "stream",
     "text": [
      "WARNING: Module C:\\Users\\evanmuis.stu\\Miniconda3\\envs\\frag\\lib\\site-packages\\pylandstats\\landscape.py has not been compiled for Transonic-Numba\n"
     ]
    }
   ],
   "source": [
    "import os\n",
    "import pylandstats as pls\n",
    "import geopandas as gpd\n",
    "import pandas as pd\n",
    "import time\n",
    "\n",
    "wd = os.getcwd()"
   ]
  },
  {
   "cell_type": "code",
   "execution_count": 4,
   "metadata": {},
   "outputs": [
    {
     "data": {
      "text/html": [
       "<div>\n",
       "<style scoped>\n",
       "    .dataframe tbody tr th:only-of-type {\n",
       "        vertical-align: middle;\n",
       "    }\n",
       "\n",
       "    .dataframe tbody tr th {\n",
       "        vertical-align: top;\n",
       "    }\n",
       "\n",
       "    .dataframe thead th {\n",
       "        text-align: right;\n",
       "    }\n",
       "</style>\n",
       "<table border=\"1\" class=\"dataframe\">\n",
       "  <thead>\n",
       "    <tr style=\"text-align: right;\">\n",
       "      <th></th>\n",
       "      <th>metric</th>\n",
       "      <th>proportion_of_landscape</th>\n",
       "      <th>total_area</th>\n",
       "    </tr>\n",
       "    <tr>\n",
       "      <th>class_val</th>\n",
       "      <th>ppa_gpe</th>\n",
       "      <th></th>\n",
       "      <th></th>\n",
       "    </tr>\n",
       "  </thead>\n",
       "  <tbody>\n",
       "    <tr>\n",
       "      <th>0</th>\n",
       "      <th>PPA</th>\n",
       "      <td>100.0</td>\n",
       "      <td>1488.69</td>\n",
       "    </tr>\n",
       "  </tbody>\n",
       "</table>\n",
       "</div>"
      ],
      "text/plain": [
       "metric             proportion_of_landscape  total_area\n",
       "class_val ppa_gpe                                     \n",
       "0         PPA                        100.0     1488.69"
      ]
     },
     "execution_count": 4,
     "metadata": {},
     "output_type": "execute_result"
    }
   ],
   "source": [
    "testRas = r\"C:\\Users\\evanmuis.stu\\Sync\\Masters\\Data\\outputs\\JoffreLakesPark\\rasters\\JoffreLakesPark_PACE-1994-disturbance.tif\"\n",
    "testZones = r\"C:\\Users\\evanmuis.stu\\Sync\\Masters\\Data\\outputs\\JoffreLakesPark\\JoffreLakesPark_PACE.shp\"\n",
    "\n",
    "za = pls.ZonalAnalysis(testRas, masks = testZones, masks_index_col = 'ppa_gpe')\n",
    "class_metrics_df = za.compute_class_metrics_df(metrics = ['proportion_of_landscape', 'total_area'], fillna = False)\n",
    "class_metrics_df"
   ]
  },
  {
   "cell_type": "code",
   "execution_count": 9,
   "metadata": {},
   "outputs": [
    {
     "name": "stdout",
     "output_type": "stream",
     "text": [
      "disturbance.tif\n"
     ]
    }
   ],
   "source": [
    "propVars = [\"HMM\", \"disturbance\", \"fragstats\"]\n",
    "\n",
    "propVars = tuple([s + \".tif\" for s in propVars])"
   ]
  },
  {
   "cell_type": "code",
   "execution_count": 19,
   "metadata": {},
   "outputs": [],
   "source": [
    "d = 'outputs'\n",
    "parkFolders = [os.path.join(wd, d, o) for o in os.listdir(d) \n",
    "                    if os.path.isdir(os.path.join(d,o))]\n",
    "parkFolders = parkFolders[0:1]\n",
    "hmmDfs = []\n",
    "files = []\n",
    "\n",
    "for park in parkFolders:\n",
    "    parkName = park.rsplit(\"\\\\\", 1)[-1]\n",
    "    #print(parkName)\n",
    "    subzone = os.path.join(park, parkName + \"_PACE_Subzones.shp\")\n",
    "    ppa_gpe = os.path.join(park, parkName + \"_PACE.shp\")\n",
    "    #print(subzone)\n",
    "    rasterLoc = os.path.join(park, \"rasters\")\n",
    "    for file in os.listdir(rasterLoc):\n",
    "        if file.endswith(propVars):\n",
    "            files.append(file)\n"
   ]
  },
  {
   "cell_type": "code",
   "execution_count": 4,
   "metadata": {},
   "outputs": [
    {
     "name": "stdout",
     "output_type": "stream",
     "text": [
      "C:\\Users\\evanmuis.stu\\Sync\\Masters\\Data\\outputs\\Gar\\rasters\\Gar_PACE-2015-disturbance.tif \n",
      " C:\\Users\\evanmuis.stu\\Sync\\Masters\\Data\\outputs\\Gar\\rasters\\Gar_PACE-2015-fragstats.tif \n",
      " C:\\Users\\evanmuis.stu\\Sync\\Masters\\Data\\outputs\\Gar\\rasters\\Gar_PACE-2015-HMM.tif\n"
     ]
    }
   ],
   "source": [
    "dist = os.path.join(rasterLoc, files[0])\n",
    "frag = os.path.join(rasterLoc, files[1])\n",
    "hmm = os.path.join(rasterLoc, files[2])\n",
    "print(dist, \"\\n\", frag, \"\\n\", hmm)"
   ]
  },
  {
   "cell_type": "markdown",
   "metadata": {},
   "source": [
    "# function for working with VLCE and disturbance data to get proportions of total area"
   ]
  },
  {
   "cell_type": "code",
   "execution_count": 11,
   "metadata": {},
   "outputs": [],
   "source": [
    "def propGen(fName, subzone):\n",
    "    metadata = fName.split(\"\\\\\")[-1].split(\".\")[0].split(\"-\")\n",
    "    var = metadata[-1]\n",
    "    year = metadata[1]\n",
    "\n",
    "    za = pls.ZonalAnalysis(fName, masks = subzone, masks_index_col = 'ppa_gpe')\n",
    "    class_metrics_df = za.compute_class_metrics_df(metrics = ['proportion_of_landscape', 'total_area'], fillna = False)\n",
    "    class_metrics_df[\"park\"] = parkName\n",
    "    class_metrics_df[\"var\"] = var\n",
    "    class_metrics_df[\"year\"] = year\n",
    "    return class_metrics_df"
   ]
  },
  {
   "cell_type": "markdown",
   "metadata": {},
   "source": [
    "# creating csv files"
   ]
  },
  {
   "cell_type": "code",
   "execution_count": 48,
   "metadata": {},
   "outputs": [
    {
     "name": "stdout",
     "output_type": "stream",
     "text": [
      "6 / 6 folders 36 / 36 files: StuartRiverParkLowerSite_PACE-2018-disturbance.tif\r"
     ]
    }
   ],
   "source": [
    "d = 'outputs'\n",
    "parkFolders = [os.path.join(wd, d, o) for o in os.listdir(d) \n",
    "                    if os.path.isdir(os.path.join(d,o))]\n",
    "#parkFolders = parkFolders\n",
    "hmmDfs = []\n",
    "distDfs = []\n",
    "i = 1\n",
    "\n",
    "\n",
    "for park in parkFolders:\n",
    "    j = 1\n",
    "    parkName = park.rsplit(\"\\\\\", 1)[-1]\n",
    "    #print(parkName)\n",
    "    subzone = os.path.join(park, parkName + \"_PACE_Subzones.shp\")\n",
    "    ppa_gpe = os.path.join(park, parkName + \"_PACE.shp\")\n",
    "    #print(subzone)\n",
    "    rasterLoc = os.path.join(park, \"rasters\")\n",
    "    tifs = []\n",
    "    for file in os.listdir(rasterLoc):\n",
    "        if file.endswith(propVars):\n",
    "            tifs.append(file)\n",
    "    #print(tifs)\n",
    "    for file in tifs:\n",
    "        print(str(i), \"/\", len(parkFolders), \"folders\", str(j), \"/\", len(tifs), \"files:\", file, end = \"\\r\")\n",
    "        \n",
    "        if file.endswith(propVars[0]): #vlce data\n",
    "            hmmDf = propGen(os.path.join(rasterLoc, file), ppa_gpe)\n",
    "            hmmDfs.append(hmmDf)\n",
    "        if file.endswith(propVars[1]): #disturbance data\n",
    "            \n",
    "            distDf = propGen(os.path.join(rasterLoc, file), ppa_gpe)\n",
    "            distDfs.append(distDf)\n",
    "            \n",
    "        #if file.endswith(propVars[2]):\n",
    "            #files.append(file)\n",
    "            #implement things for forest fragstats metrics\n",
    "        \n",
    "        j += 1\n",
    "        time.sleep(.2)\n",
    "    i += 1    \n",
    "\n",
    "pd.concat(hmmDfs).fillna(0).to_csv(\"outputCsvs/vlce.csv\")\n",
    "pd.concat(distDfs).fillna(0).to_csv(\"outputCsvs/disturbance.csv\")\n",
    "print(\"done\")"
   ]
  },
  {
   "cell_type": "markdown",
   "metadata": {},
   "source": [
    "# function for working with reclassified VLCE data to get fragstats"
   ]
  },
  {
   "cell_type": "code",
   "execution_count": 12,
   "metadata": {},
   "outputs": [],
   "source": [
    "subzone\n",
    "frag\n",
    "\n",
    "za = pls.ZonalAnalysis(frag, masks = subzone, masks_index_col = 'ppa_gpe')"
   ]
  }
 ],
 "metadata": {
  "kernelspec": {
   "display_name": "Python 3",
   "language": "python",
   "name": "python3"
  },
  "language_info": {
   "codemirror_mode": {
    "name": "ipython",
    "version": 3
   },
   "file_extension": ".py",
   "mimetype": "text/x-python",
   "name": "python",
   "nbconvert_exporter": "python",
   "pygments_lexer": "ipython3",
   "version": "3.8.5"
  }
 },
 "nbformat": 4,
 "nbformat_minor": 4
}
